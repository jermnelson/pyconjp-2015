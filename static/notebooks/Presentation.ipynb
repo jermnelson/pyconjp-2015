{
 "cells": [
  {
   "cell_type": "markdown",
   "metadata": {},
   "source": [
    "# iPython Notebook for Pycon JP 2015 Presentation"
   ]
  },
  {
   "cell_type": "code",
   "execution_count": 12,
   "metadata": {
    "collapsed": false
   },
   "outputs": [
    {
     "name": "stdout",
     "output_type": "stream",
     "text": [
      "3561149\n"
     ]
    }
   ],
   "source": [
    "%matplotlib inline\n",
    "import redis\n",
    "import matplotlib.pyplot as plt\n",
    "\n",
    "cc_popular = redis.StrictRedis()\n",
    "print(cc_popular.dbsize())"
   ]
  },
  {
   "cell_type": "code",
   "execution_count": 5,
   "metadata": {
    "collapsed": false
   },
   "outputs": [
    {
     "name": "stdout",
     "output_type": "stream",
     "text": [
      "http://www.w3.org/1999/02/22-rdf-syntax-ns#type http://bibframe.org/vocab/Work\n",
      "http://bibframe.org/vocab/authorizedAccessPoint jankestevenj1947tinsleyfrederick1951introductiontolinearmodelsandstatisticalinferenceengworktext\n",
      "http://bibframe.org/vocab/language http://id.loc.gov/vocabulary/languages/eng\n",
      "http://bibframe.org/vocab/classificationLcc http://id.loc.gov/authorities/classification/QA279\n",
      "http://bibframe.org/vocab/subject http://catalog.coloradocollege.edu/58052458topic9\n",
      "http://www.w3.org/1999/02/22-rdf-syntax-ns#type http://bibframe.org/vocab/Text\n",
      "http://bibframe.org/vocab/workTitle http://catalog.coloradocollege.edu/58052458title5\n",
      "http://bibframe.org/vocab/contributor http://catalog.coloradocollege.edu/58052458person7\n",
      "http://bibframe.org/vocab/authorizedAccessPoint Janke, Steven J., 1947- Introduction to linear models and statistical inference / Steven J. Janke, Frederick C. Tinsley.Introduction to linear models and statistical inference\n",
      "http://bibframe.org/vocab/creator http://catalog.coloradocollege.edu/58052458person6\n"
     ]
    }
   ],
   "source": [
    "for row in cc_popular.keys('17e3f5ff4da952ec9d9f850a571a8d9cf5b1ec69:*:*'):\n",
    "\ts,p,o = row.decode().split(\":\")\n",
    "\tprint(cc_popular.get(p).decode(), cc_popular.get(o).decode())"
   ]
  },
  {
   "cell_type": "code",
   "execution_count": 8,
   "metadata": {
    "collapsed": true
   },
   "outputs": [],
   "source": [
    "import timeit\n",
    "setup_stmt = \"\"\"import redis\n",
    "cc_popular = redis.StrictRedis()\"\"\"\n",
    "stmt=\"\"\"cc_popular.keys(\"17e3f5ff4da952ec9d9f850a571a8d9cf5b1ec69:*:*\")\"\"\"\n",
    "redis_trials = []\n",
    "for count in range(1, 11):\n",
    "\tredis_timer = timeit.timeit(stmt=stmt, setup=setup_stmt, number=count)\n",
    "\tredis_trials.append(redis_timer)\n"
   ]
  },
  {
   "cell_type": "code",
   "execution_count": 13,
   "metadata": {
    "collapsed": false
   },
   "outputs": [
    {
     "data": {
      "image/png": "[encoded data removed]",
      "text/plain": [
       "<matplotlib.figure.Figure at 0x5ea76d8>"
      ]
     },
     "metadata": {},
     "output_type": "display_data"
    }
   ],
   "source": [
    "plt.plot(redis_trials)\n",
    "plt.ylabel('Total Time')\n",
    "plt.xlabel('Number of Trials')\n",
    "plt.show()"
   ]
  },
  {
   "cell_type": "code",
   "execution_count": 17,
   "metadata": {
    "collapsed": false
   },
   "outputs": [
    {
     "data": {
      "image/png": "[encoded data removed]",
      "text/plain": [
       "<matplotlib.figure.Figure at 0x771df28>"
      ]
     },
     "metadata": {},
     "output_type": "display_data"
    }
   ],
   "source": [
    "import requests\n",
    "setup_stmt = \"\"\"import requests\"\"\"\n",
    "stmt=\"\"\"requests.get(\"http://localhost:18150\", data={\"s\": \"http://catalog.coloradocollege.edu/58052458\"})\"\"\"\n",
    "falcon_trials = []\n",
    "for count in range(1,11):\n",
    "    falcon_timer = timeit.timeit(stmt=stmt, setup=setup_stmt, number=count)\n",
    "    falcon_trials.append(falcon_timer)\n",
    "plt.plot(falcon_trials)\n",
    "plt.ylabel('Total Time')\n",
    "plt.xlabel('Number of Trials')\n",
    "plt.show()"
   ]
  },
  {
   "cell_type": "code",
   "execution_count": null,
   "metadata": {
    "collapsed": true
   },
   "outputs": [],
   "source": []
  }
 ],
 "metadata": {
  "kernelspec": {
   "display_name": "Python 3",
   "language": "python",
   "name": "python3"
  },
  "language_info": {
   "codemirror_mode": {
    "name": "ipython",
    "version": 3
   },
   "file_extension": ".py",
   "mimetype": "text/x-python",
   "name": "python",
   "nbconvert_exporter": "python",
   "pygments_lexer": "ipython3",
   "version": "3.4.3"
  }
 },
 "nbformat": 4,
 "nbformat_minor": 0
}
